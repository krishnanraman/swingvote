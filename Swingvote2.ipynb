{
 "cells": [
  {
   "cell_type": "code",
   "execution_count": 2,
   "metadata": {},
   "outputs": [
    {
     "data": {
      "image/png": "[encoded data removed]",
      "text/plain": [
       "<matplotlib.figure.Figure at 0x7f38c0e0a2b0>"
      ]
     },
     "metadata": {},
     "output_type": "display_data"
    },
    {
     "name": "stdout",
     "output_type": "stream",
     "text": [
      "Chances of swing vote in a family of 3 kids: 0.50291\n",
      "Chances of swing vote in a classroom of 31 kids: 0.14443\n",
      "Chances of swing vote in a school of 301 kids: 0.04626\n"
     ]
    }
   ],
   "source": [
    "# LETS DO SCIPY\n",
    "\n",
    "from scipy.stats import binom\n",
    "\n",
    "def scipyChancesOfSwingVote(n):\n",
    "    # number of simulations\n",
    "    N = 100000\n",
    "    \n",
    "    # a binomial distribution of n voters with equal choice of 50% among [0,1]\n",
    "    # lets create N such rows ie. (N,n) \n",
    "    u = binom.rvs(1,0.5, size=(N,n))\n",
    "    # number of times the last voter makes a difference\n",
    "    ctr = 0\n",
    "    \n",
    "    for i in range(N):\n",
    "        arr = u[i]\n",
    "        \n",
    "        # get rid of the last voter\n",
    "        excludelast = arr[:n-1] \n",
    "        \n",
    "        # If there are equal number of 0's and 1's, the mean is 0.5\n",
    "        if np.mean(excludelast) == 0.5:\n",
    "            ctr += 1\n",
    "    \n",
    "    # spit out the ratio of subset size over total size\n",
    "    return ctr/N\n",
    "\n",
    "start_time = timeit.default_timer()\n",
    "\n",
    "X = np.arange(3,101,4)\n",
    "Y = list(map(scipyChancesOfSwingVote, X))\n",
    "elapsed2 = timeit.default_timer() - start_time\n",
    "\n",
    "plt.plot(X,Y)\n",
    "plt.show()\n",
    "\n",
    "# Family of 3 kids\n",
    "print(\"Chances of swing vote in a family of 3 kids: \" + str(scipyChancesOfSwingVote(3)))\n",
    "\n",
    "# Class of 31 kids\n",
    "print(\"Chances of swing vote in a classroom of 31 kids: \" + str(scipyChancesOfSwingVote(31)))\n",
    "\n",
    "# A school of 301 kids\n",
    "print(\"Chances of swing vote in a school of 301 kids: \" + str(scipyChancesOfSwingVote(301)))"
   ]
  }
 ],
 "metadata": {
  "kernelspec": {
   "display_name": "Python 3",
   "language": "python",
   "name": "python3"
  },
  "language_info": {
   "codemirror_mode": {
    "name": "ipython",
    "version": 3
   },
   "file_extension": ".py",
   "mimetype": "text/x-python",
   "name": "python",
   "nbconvert_exporter": "python",
   "pygments_lexer": "ipython3",
   "version": "3.5.2"
  }
 },
 "nbformat": 4,
 "nbformat_minor": 2
}
