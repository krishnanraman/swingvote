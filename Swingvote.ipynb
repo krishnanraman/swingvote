{
 "cells": [
  {
   "cell_type": "markdown",
   "metadata": {},
   "source": [
    "```\n",
    "Assume there are two parties, Party 0 and Party 1.\n",
    "Say there are 3 voters.\n",
    "\n",
    "There are exactly eight possible ways in which votes for the 2 parties could be cast:\n",
    "000\n",
    "001\n",
    "010\n",
    "011\n",
    "100\n",
    "101\n",
    "110\n",
    "111\n",
    "\n",
    "Now, consider the following subset:\n",
    "010\n",
    "011\n",
    "100\n",
    "101\n",
    "\n",
    "From the point of view of the third voter, these are the only votes that count.\n",
    "Why ?\n",
    "\n",
    "Because, for something not in the subset like say 000\n",
    "the decision to go with Party 0 has already been made by 1st & 2nd voter. \n",
    "The 3rd voter's vote is immaterial because 0 is already a majority.\n",
    "\n",
    "Whereas for a member of the subset say 010\n",
    "the decision to go with 0 or a 1 is still open because they have equal votes.\n",
    "Voter 3 comes along, casts his vote of 0 and swings the decision to Party 0 ( the case 010 )\n",
    "Voter 3 comes along, casts his vote of 1 and swings the decision to Party 1 ( the case 011 )\n",
    "So Voter 3 matters.\n",
    "\n",
    "How much does Voter 3 matter ?\n",
    "Well, the ratio of the size of the subset to the size of the whole set \n",
    "is the probability of Voter 3 mattering. \n",
    "In this case, its 4/8  = 0.5\n",
    "\n",
    "In other words, if you have a family of 3 - \n",
    "Mom, Dad & Kid, \n",
    "you want to vote on whether to visit the moviehouse or the museum, \n",
    "you should vote. \n",
    "Because your vote matters. \n",
    "There's a 50% chance you can make a difference.\n",
    "\n",
    "As kids in larger families know, their votes matter less and less :(\n",
    "If your standard classroom of 31 kids\n",
    "is choosing between a movie and a musuem, \n",
    "chances that the 31st kid can swing the vote is pretty low. \n",
    "How low ?\n",
    "\n",
    "We could quantify all this with basic high school math.\n",
    "However, we shall use some programming machinery instead.\n",
    "\n",
    "1. Let's start with numpy\n",
    "2. Then scipy\n",
    "3. Then tensorflow\n",
    "4. Finally, a tad bit of plain simple math.\n",
    "```"
   ]
  },
  {
   "cell_type": "code",
   "execution_count": 7,
   "metadata": {},
   "outputs": [
    {
     "data": {
      "image/png": "[encoded data removed]",
      "text/plain": [
       "<matplotlib.figure.Figure at 0x7f2e940fefd0>"
      ]
     },
     "metadata": {},
     "output_type": "display_data"
    },
    {
     "name": "stdout",
     "output_type": "stream",
     "text": [
      "Chances of swing vote in a family of 3 kids: 0.50107\n",
      "Chances of swing vote in a classroom of 31 kids: 0.14534\n",
      "Chances of swing vote in a school of 301 kids: 0.04557\n"
     ]
    }
   ],
   "source": [
    "# LETS DO NUMPY\n",
    "\n",
    "import numpy as np\n",
    "import matplotlib.pyplot as plt\n",
    "import timeit\n",
    "\n",
    "def numpyChancesOfSwingVote(n):\n",
    "    # number of simulations\n",
    "    N = 100000\n",
    "    \n",
    "    # a binomial distribution of n voters with equal choice of 50% among [0,1]\n",
    "    # lets create N such rows ie. (N,n) \n",
    "    u = np.random.binomial(1,0.5,(N,n)) \n",
    "    \n",
    "    # number of times the last voter makes a difference\n",
    "    ctr = 0\n",
    "    \n",
    "    for i in range(N):\n",
    "        arr = u[i]\n",
    "        \n",
    "        # get rid of the last voter\n",
    "        excludelast = arr[:n-1] \n",
    "        \n",
    "        # you want to count how many votes are 0 and how many are 1\n",
    "        bc = np.bincount(excludelast.ravel())\n",
    "        \n",
    "        #print(bc)\n",
    "        # If the zero-votes are identical to one-votes excluding the last voter\n",
    "        # then the last voter makes a difference!\n",
    "        if len(bc) == 2 and bc[0] == bc[1]:\n",
    "            ctr += 1\n",
    "    \n",
    "    # spit out the ratio of subset size over total size\n",
    "    return ctr/N\n",
    "\n",
    "start_time = timeit.default_timer()\n",
    "\n",
    "X = np.arange(3,101,4)\n",
    "Y = list(map(numpyChancesOfSwingVote, X))\n",
    "elapsed1 = timeit.default_timer() - start_time\n",
    "\n",
    "plt.plot(X,Y)\n",
    "plt.show()\n",
    "\n",
    "# Family of 3 kids\n",
    "print(\"Chances of swing vote in a family of 3 kids: \" + str(numpyChancesOfSwingVote(3)))\n",
    "\n",
    "# Class of 31 kids\n",
    "print(\"Chances of swing vote in a classroom of 31 kids: \" + str(numpyChancesOfSwingVote(31)))\n",
    "\n",
    "# A school of 301 kids\n",
    "print(\"Chances of swing vote in a school of 301 kids: \" + str(numpyChancesOfSwingVote(301)))"
   ]
  },
  {
   "cell_type": "code",
   "execution_count": 2,
   "metadata": {},
   "outputs": [
    {
     "data": {
      "image/png": "[encoded data removed]",
      "text/plain": [
       "<matplotlib.figure.Figure at 0x7f2eac6dc390>"
      ]
     },
     "metadata": {},
     "output_type": "display_data"
    },
    {
     "name": "stdout",
     "output_type": "stream",
     "text": [
      "Chances of swing vote in a family of 3 kids: 0.49729\n",
      "Chances of swing vote in a classroom of 31 kids: 0.14537\n",
      "Chances of swing vote in a school of 301 kids: 0.0464\n"
     ]
    }
   ],
   "source": [
    "# LETS DO SCIPY\n",
    "\n",
    "from scipy.stats import binom\n",
    "\n",
    "def scipyChancesOfSwingVote(n):\n",
    "    # number of simulations\n",
    "    N = 100000\n",
    "    \n",
    "    # a binomial distribution of n voters with equal choice of 50% among [0,1]\n",
    "    # lets create N such rows ie. (N,n) \n",
    "    u = binom.rvs(1,0.5, size=(N,n))\n",
    "    # number of times the last voter makes a difference\n",
    "    ctr = 0\n",
    "    \n",
    "    for i in range(N):\n",
    "        arr = u[i]\n",
    "        \n",
    "        # get rid of the last voter\n",
    "        excludelast = arr[:n-1] \n",
    "        \n",
    "        # If there are equal number of 0's and 1's, the mean is 0.5\n",
    "        if np.mean(excludelast) == 0.5:\n",
    "            ctr += 1\n",
    "    \n",
    "    # spit out the ratio of subset size over total size\n",
    "    return ctr/N\n",
    "\n",
    "start_time = timeit.default_timer()\n",
    "\n",
    "X = np.arange(3,101,4)\n",
    "Y = list(map(scipyChancesOfSwingVote, X))\n",
    "elapsed2 = timeit.default_timer() - start_time\n",
    "\n",
    "plt.plot(X,Y)\n",
    "plt.show()\n",
    "\n",
    "# Family of 3 kids\n",
    "print(\"Chances of swing vote in a family of 3 kids: \" + str(scipyChancesOfSwingVote(3)))\n",
    "\n",
    "# Class of 31 kids\n",
    "print(\"Chances of swing vote in a classroom of 31 kids: \" + str(scipyChancesOfSwingVote(31)))\n",
    "\n",
    "# A school of 301 kids\n",
    "print(\"Chances of swing vote in a school of 301 kids: \" + str(scipyChancesOfSwingVote(301)))"
   ]
  },
  {
   "cell_type": "code",
   "execution_count": 3,
   "metadata": {},
   "outputs": [
    {
     "data": {
      "image/png": "[encoded data removed]",
      "text/plain": [
       "<matplotlib.figure.Figure at 0x7f2ea0d3ed30>"
      ]
     },
     "metadata": {},
     "output_type": "display_data"
    },
    {
     "name": "stdout",
     "output_type": "stream",
     "text": [
      "Chances of swing vote in a family of 3 kids: 0.5046\n",
      "Chances of swing vote in a classroom of 31 kids: 0.1494\n",
      "Chances of swing vote in a school of 301 kids: 0.0461\n"
     ]
    }
   ],
   "source": [
    "# LETS DO TENSORFLOW\n",
    "\n",
    "import tensorflow as tf\n",
    "sess = tf.InteractiveSession()\n",
    "\n",
    "def tfChancesOfSwingVote(n):\n",
    "    N = 10000  # samples scaled down 10x, since tensorflow takes too long o/w\n",
    "    u = tf.random_uniform((N,n), minval= 0, maxval=2, dtype=tf.int32)\n",
    "    mat = u.eval() # evaluate the tf object ONLY ONCE, NOT IN A BLOODY LOOP\n",
    "    ctr = 0\n",
    "    for i in range(N):\n",
    "        arr = mat[i] # work off of the evaluated matrix\n",
    "        excludelast = arr[:n-1] \n",
    "        if np.mean(excludelast) == 0.5:\n",
    "            ctr += 1\n",
    "    \n",
    "    return ctr/N\n",
    "\n",
    "start_time = timeit.default_timer()\n",
    "X = np.arange(3,101,4)\n",
    "Y = list(map(tfChancesOfSwingVote, X))\n",
    "elapsed3 = timeit.default_timer() - start_time\n",
    "\n",
    "plt.plot(X,Y)\n",
    "plt.show()\n",
    "\n",
    "# Family of 3 kids\n",
    "print(\"Chances of swing vote in a family of 3 kids: \" + str(tfChancesOfSwingVote(3)))\n",
    "\n",
    "# Class of 31 kids\n",
    "print(\"Chances of swing vote in a classroom of 31 kids: \" + str(tfChancesOfSwingVote(31)))\n",
    "\n",
    "# A school of 301 kids\n",
    "print(\"Chances of swing vote in a school of 301 kids: \" + str(tfChancesOfSwingVote(301)))"
   ]
  },
  {
   "cell_type": "code",
   "execution_count": 5,
   "metadata": {},
   "outputs": [
    {
     "name": "stdout",
     "output_type": "stream",
     "text": [
      "Numpy: 9.297621122008422s  Scipy: 52.19658017298207s  TF: 1440.8643114948063s\n"
     ]
    }
   ],
   "source": [
    "# Speed benchmarks\n",
    "# tf is quite slow so we have scaled the problem size down by 10x\n",
    "# len(X) is number of times tf function is called, & sample size is smaller by 10x\n",
    "# So the true tf speed assuming linearity is len(X) * 10 * speed\n",
    "\n",
    "print(\"Numpy: \" + str(elapsed1) + \"s  Scipy: \" + str(elapsed2) + \"s  TF: \" + str(len(X) * 10 * elapsed3) + \"s\")"
   ]
  },
  {
   "cell_type": "markdown",
   "metadata": {},
   "source": [
    "```\n",
    "The Binomial Distribution can be approximated by a Gaussian.\n",
    "For large n with p ~ 0.5, with np > 5 & npq > 5 i.e for n >= 20, since p = q = 0.5\n",
    "Bin(n,p) ~ Norm( mu = n*p, sigma = sqrt(n*p*(1-p)))\n",
    "\n",
    "We seek to estimate the probability of exactly half the trials succeeding & half the trials failing.\n",
    "Essentially, on a gaussian distribution with some (mu,sigma), we want the chances of X = n/2.\n",
    "\n",
    "But the gaussian is a continous distribution, and we seek to estimate the probability of a discrete event.\n",
    "The answer would be zero, unless we apply a so-called continuity correction.\n",
    "Essentially, we could create an interval around n/2, and integrate over that interval.\n",
    "[n/2-1/2,n/2 + 1/2] would give us an interval\n",
    "\n",
    "When we find the probability of our continous random variable inhabiting that interval, \n",
    "that's about the same as the probability of our discrete rv equalling the center of the interval.\n",
    "The approximation gets better as n gets larger and approx error converges to zero almost surely.\n",
    "\n",
    "Essentially, what we seek is this probability:\n",
    "prob(n = [n/2-1/2, n/2+1/2], Norm(mu = n*p, sigma = sqrt(n*p*p))\n",
    "\n",
    "```"
   ]
  },
  {
   "cell_type": "code",
   "execution_count": 6,
   "metadata": {},
   "outputs": [
    {
     "data": {
      "image/png": "[encoded data removed]",
      "text/plain": [
       "<matplotlib.figure.Figure at 0x7f2e940f3198>"
      ]
     },
     "metadata": {},
     "output_type": "display_data"
    },
    {
     "name": "stdout",
     "output_type": "stream",
     "text": [
      "Chances of swing vote in a family of 3 kids: 0.4362971383492269\n",
      "Chances of swing vote in a classroom of 31 kids: 0.14253755804075885\n",
      "Chances of swing vote in a school of 301 kids: 0.04596384948361121\n",
      "Chances of swing vote in a city of 1000001 voters: 0.0007978840288803135\n"
     ]
    }
   ],
   "source": [
    "# LETS DO MATH\n",
    "\n",
    "from scipy.stats import norm\n",
    "def mathChancesOfSwingVote(X):\n",
    "    n = X\n",
    "    p = 0.5\n",
    "    mu = n*p # this is the mean of the normal approximation to the binomial\n",
    "    sigma = np.sqrt(n*p*p) # stdev of the approximation\n",
    "    \n",
    "    top = norm.cdf(n/2 + 0.5,mu,sigma) # the probability from [-inf, n/2 + 1/2]\n",
    "    bottom = norm.cdf(n/2 - 0.5,mu,sigma) # the probability from [-inf, n/2 - 1/2]\n",
    "    return top - bottom # the probability from [n/2 - 1/2, n/2 + 1/2]\n",
    "\n",
    "X = np.arange(3,101,4)\n",
    "Y = list(map(mathChancesOfSwingVote, X))\n",
    "Ytrue = list(map(numpyChancesOfSwingVote, X))\n",
    "\n",
    "plt.plot(X,Y, 'b') # the blue is the approximation\n",
    "plt.plot(X,Ytrue, 'r') # the red is the true value\n",
    "plt.show()\n",
    "\n",
    "# Family of 3 kids\n",
    "print(\"Chances of swing vote in a family of 3 kids: \" + str(mathChancesOfSwingVote(3)))\n",
    "\n",
    "# Class of 31 kids\n",
    "print(\"Chances of swing vote in a classroom of 31 kids: \" + str(mathChancesOfSwingVote(31)))\n",
    "\n",
    "# A school of 301 kids\n",
    "print(\"Chances of swing vote in a school of 301 kids: \" + str(mathChancesOfSwingVote(301)))\n",
    "\n",
    "# A city of million voters\n",
    "print(\"Chances of swing vote in a city of 1000001 voters: \" + str(mathChancesOfSwingVote(1000001)))"
   ]
  },
  {
   "cell_type": "markdown",
   "metadata": {},
   "source": [
    "```\n",
    "Notes on the code:\n",
    "\n",
    "1. In numpy, np.random.binomial(MAX,p,(N,n)) gives you (Nxn) samples, each sample is the number of SUCCESSES if MAX trials were performed with p being the probability of success in a trial.\n",
    "Hence if p = 1, you simply get MAX. \n",
    "p=0 gets you 0. \n",
    "p  between 0 & 1 would give you a number between [0,MAX]\n",
    "To simulate a voting scenario, np.random.binomial(1,0.5) would give you number of successes if you run 1 trial with 50% chance of winning, so returns either a 0 or a 1. To get (Nxn) samples, use np.random.binomial(1,0.5,(N,n))\n",
    "\n",
    "2. Given an array like [0,1,0,0,1,1,] np.bincount counts the number of 0 bins & number of 1 bins.\n",
    "You want to make sure both zero & 1 bins exist (len(bc) ==2), & then check the count.\n",
    "\n",
    "3. scipy.stats.binom.rvs API is identical to np.random.binomial\n",
    "\n",
    "4. It should be clear that instead of counting zeros & ones in an array, we can simply compute the mean of the array. If there were equal number of 0s & 1s, the mean should be 0.5\n",
    "\n",
    "5. In tensorflow, the random uniform distribution with min of 0 & max of 2 is identical to a binomial with 1 trial & 50% chance of success. For Nxn samples, you have\n",
    "tf.random_uniform((N,n), minval= 0, maxval=2, dtype=tf.int32)\n",
    "\n",
    "6. Evaluate the tensor exactly once ( expensive!) and store results in some array that can then be indexed into. Once you have an interactive tensorflow session (sess = tf.InteractiveSession()), the eval() op on a tensor evaluates its contents.\n",
    "\n",
    "7. Regards speed of execution, numpy >>  scipy >> tf. Numpy is way faster. tf's sample size has been scaled down 10x from 100k to 10k, to let it complete fast. \n",
    "\n",
    "8. All these methods are pretty dumb compared to just using the gaussian approximation to the binomial. However, programmers don't grok math, so this is where we are.\n",
    "```"
   ]
  },
  {
   "cell_type": "markdown",
   "metadata": {},
   "source": [
    "```\n",
    "Summary: \n",
    "While it is important to have the ability to swing the vote in your party's favor,\n",
    "that ability dissipates exponentially.\n",
    "\n",
    "It isn't why voters vote.\n",
    "\n",
    "You have a 50% ie. 1 in 2 chance of swinging the vote in your family of 3.\n",
    "Your chances are down to 1 in 7 in your classroom of 31.\n",
    "Your chances are further down to 1 in 25 in your school of 301.\n",
    "As a voter in a small city of million citizens, your chances are 1 in 1250.\n",
    "\n",
    "Furthermore, in a real election, if a single voter can actually swing the vote, \n",
    "the votes are scrapped & there's either a recount or a re-election!\n",
    "So there's no point to computing this artificial metric.\n",
    "\n",
    "Get out and vote!\n",
    "```    "
   ]
  }
 ],
 "metadata": {
  "kernelspec": {
   "display_name": "Python 3",
   "language": "python",
   "name": "python3"
  },
  "language_info": {
   "codemirror_mode": {
    "name": "ipython",
    "version": 3
   },
   "file_extension": ".py",
   "mimetype": "text/x-python",
   "name": "python",
   "nbconvert_exporter": "python",
   "pygments_lexer": "ipython3",
   "version": "3.5.2"
  }
 },
 "nbformat": 4,
 "nbformat_minor": 2
}
