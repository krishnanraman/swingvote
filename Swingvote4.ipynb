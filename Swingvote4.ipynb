{
 "cells": [
  {
   "cell_type": "code",
   "execution_count": 4,
   "metadata": {},
   "outputs": [
    {
     "name": "stdout",
     "output_type": "stream",
     "text": [
      "Numpy: 10.05978720501298s  Scipy: 52.94583861200954s  TF: 1241.9945767469471s\n"
     ]
    }
   ],
   "source": [
    "# Speed benchmarks\n",
    "# tf is quite slow so we have scaled the problem size down by 10x\n",
    "# len(X) is number of times tf function is called, & sample size is smaller by 10x\n",
    "# So the true tf speed assuming linearity is len(X) * 10 * speed\n",
    "\n",
    "print(\"Numpy: \" + str(elapsed1) + \"s  Scipy: \" + str(elapsed2) + \"s  TF: \" + str(len(X) * 10 * elapsed3) + \"s\")"
   ]
  },
  {
   "cell_type": "markdown",
   "metadata": {},
   "source": [
    "```\n",
    "The Binomial Distribution can be approximated by a Gaussian.\n",
    "For large n with p ~ 0.5, with np > 5 & npq > 5 i.e for n >= 20, since p = q = 0.5\n",
    "Bin(n,p) ~ Norm( mu = n*p, sigma = sqrt(n*p*(1-p)))\n",
    "\n",
    "We seek to estimate the probability of exactly half the trials succeeding & half the trials failing.\n",
    "Essentially, on a gaussian distribution with some (mu,sigma), we want the chances of X = n/2.\n",
    "\n",
    "But the gaussian is a continous distribution, and we seek to estimate the probability of a discrete event.\n",
    "The answer would be zero, unless we apply a so-called continuity correction.\n",
    "Essentially, we could create an interval around n/2, and integrate over that interval.\n",
    "[n/2-1/2,n/2 + 1/2] would give us an interval\n",
    "\n",
    "When we find the probability of our continous random variable inhabiting that interval, \n",
    "that's about the same as the probability of our discrete rv equalling the center of the interval.\n",
    "The approximation gets better as n gets larger and approx error converges to zero almost surely.\n",
    "\n",
    "Essentially, what we seek is this probability:\n",
    "prob(n = [n/2-1/2, n/2+1/2], Norm(mu = n*p, sigma = sqrt(n*p*p))\n",
    "\n",
    "```"
   ]
  },
  {
   "cell_type": "code",
   "execution_count": 5,
   "metadata": {},
   "outputs": [
    {
     "data": {
      "image/png": "[encoded data removed]",
      "text/plain": [
       "<matplotlib.figure.Figure at 0x7f38ac2c6fd0>"
      ]
     },
     "metadata": {},
     "output_type": "display_data"
    },
    {
     "name": "stdout",
     "output_type": "stream",
     "text": [
      "Chances of swing vote in a family of 3 kids: 0.4362971383492269\n",
      "Chances of swing vote in a classroom of 31 kids: 0.14253755804075885\n",
      "Chances of swing vote in a school of 301 kids: 0.04596384948361121\n",
      "Chances of swing vote in a city of 1000001 voters: 0.0007978840288803135\n"
     ]
    }
   ],
   "source": [
    "# LETS DO MATH\n",
    "\n",
    "from scipy.stats import norm\n",
    "def mathChancesOfSwingVote(X):\n",
    "    n = X\n",
    "    p = 0.5\n",
    "    mu = n*p # this is the mean of the normal approximation to the binomial\n",
    "    sigma = np.sqrt(n*p*p) # stdev of the approximation\n",
    "    \n",
    "    top = norm.cdf(n/2 + 0.5,mu,sigma) # the probability from [-inf, n/2 + 1/2]\n",
    "    bottom = norm.cdf(n/2 - 0.5,mu,sigma) # the probability from [-inf, n/2 - 1/2]\n",
    "    return top - bottom # the probability from [n/2 - 1/2, n/2 + 1/2]\n",
    "\n",
    "X = np.arange(3,101,4)\n",
    "Y = list(map(mathChancesOfSwingVote, X))\n",
    "Ytrue = list(map(numpyChancesOfSwingVote, X))\n",
    "\n",
    "plt.plot(X,Y, 'b') # the blue is the approximation\n",
    "plt.plot(X,Ytrue, 'r') # the red is the true value\n",
    "plt.show()\n",
    "\n",
    "# Family of 3 kids\n",
    "print(\"Chances of swing vote in a family of 3 kids: \" + str(mathChancesOfSwingVote(3)))\n",
    "\n",
    "# Class of 31 kids\n",
    "print(\"Chances of swing vote in a classroom of 31 kids: \" + str(mathChancesOfSwingVote(31)))\n",
    "\n",
    "# A school of 301 kids\n",
    "print(\"Chances of swing vote in a school of 301 kids: \" + str(mathChancesOfSwingVote(301)))\n",
    "\n",
    "# A city of million voters\n",
    "print(\"Chances of swing vote in a city of 1000001 voters: \" + str(mathChancesOfSwingVote(1000001)))"
   ]
  },
  {
   "cell_type": "markdown",
   "metadata": {},
   "source": [
    "```\n",
    "Notes on the code:\n",
    "\n",
    "1. In numpy, np.random.binomial(MAX,p,(N,n)) gives you (Nxn) samples, each sample is the number of SUCCESSES if MAX trials were performed with p being the probability of success in a trial.\n",
    "Hence if p = 1, you simply get MAX. \n",
    "p=0 gets you 0. \n",
    "p  between 0 & 1 would give you a number between [0,MAX]\n",
    "To simulate a voting scenario, np.random.binomial(1,0.5) would give you number of successes if you run 1 trial with 50% chance of winning, so returns either a 0 or a 1. To get (Nxn) samples, use np.random.binomial(1,0.5,(N,n))\n",
    "\n",
    "2. Given an array like [0,1,0,0,1,1,] np.bincount counts the number of 0 bins & number of 1 bins.\n",
    "You want to make sure both zero & 1 bins exist (len(bc) ==2), & then check the count.\n",
    "\n",
    "3. scipy.stats.binom.rvs API is identical to np.random.binomial\n",
    "\n",
    "4. It should be clear that instead of counting zeros & ones in an array, we can simply compute the mean of the array. If there were equal number of 0s & 1s, the mean should be 0.5\n",
    "\n",
    "5. In tensorflow, the random uniform distribution with min of 0 & max of 2 is identical to a binomial with 1 trial & 50% chance of success. For Nxn samples, you have\n",
    "tf.random_uniform((N,n), minval= 0, maxval=2, dtype=tf.int32)\n",
    "\n",
    "6. Evaluate the tensor exactly once ( expensive!) and store results in some array that can then be indexed into. Once you have an interactive tensorflow session (sess = tf.InteractiveSession()), the eval() op on a tensor evaluates its contents.\n",
    "\n",
    "7. Regards speed of execution, numpy >>  scipy >> tf. Numpy is way faster. tf's sample size has been scaled down 10x from 100k to 10k, to let it complete fast. \n",
    "\n",
    "8. All these methods are pretty dumb compared to just using the gaussian approximation to the binomial. However, programmers don't grok math, so this is where we are.\n",
    "```"
   ]
  },
  {
   "cell_type": "markdown",
   "metadata": {},
   "source": [
    "```\n",
    "Summary: \n",
    "While it is important to have the ability to swing the vote in your party's favor,\n",
    "that ability dissipates exponentially.\n",
    "\n",
    "It isn't why voters vote.\n",
    "\n",
    "You have a 50% ie. 1 in 2 chance of swinging the vote in your family of 3.\n",
    "Your chances are down to 1 in 7 in your classroom of 31.\n",
    "Your chances are further down to 1 in 25 in your school of 301.\n",
    "As a voter in a small city of million citizens, your chances are 1 in 1250.\n",
    "\n",
    "Furthermore, in a real election, if a single voter can actually swing the vote, \n",
    "the votes are scrapped & there's either a recount or a re-election!\n",
    "So there's no point to computing this artificial metric.\n",
    "\n",
    "Get out and vote!\n",
    "```    "
   ]
  }
 ],
 "metadata": {
  "kernelspec": {
   "display_name": "Python 3",
   "language": "python",
   "name": "python3"
  },
  "language_info": {
   "codemirror_mode": {
    "name": "ipython",
    "version": 3
   },
   "file_extension": ".py",
   "mimetype": "text/x-python",
   "name": "python",
   "nbconvert_exporter": "python",
   "pygments_lexer": "ipython3",
   "version": "3.5.2"
  }
 },
 "nbformat": 4,
 "nbformat_minor": 2
}
