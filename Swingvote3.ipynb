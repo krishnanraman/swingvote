{
 "cells": [
  {
   "cell_type": "code",
   "execution_count": 3,
   "metadata": {},
   "outputs": [
    {
     "data": {
      "image/png": "[encoded data removed]",
      "text/plain": [
       "<matplotlib.figure.Figure at 0x7f38b94fe898>"
      ]
     },
     "metadata": {},
     "output_type": "display_data"
    },
    {
     "name": "stdout",
     "output_type": "stream",
     "text": [
      "Chances of swing vote in a family of 3 kids: 0.5091\n",
      "Chances of swing vote in a classroom of 31 kids: 0.1392\n",
      "Chances of swing vote in a school of 301 kids: 0.0467\n"
     ]
    }
   ],
   "source": [
    "# LETS DO TENSORFLOW\n",
    "\n",
    "import tensorflow as tf\n",
    "sess = tf.InteractiveSession()\n",
    "\n",
    "def tfChancesOfSwingVote(n):\n",
    "    N = 10000  # samples scaled down 10x, since tensorflow takes too long o/w\n",
    "    u = tf.random_uniform((N,n), minval= 0, maxval=2, dtype=tf.int32)\n",
    "    mat = u.eval() # evaluate the tf object ONLY ONCE, NOT IN A BLOODY LOOP\n",
    "    ctr = 0\n",
    "    for i in range(N):\n",
    "        arr = mat[i] # work off of the evaluated matrix\n",
    "        excludelast = arr[:n-1] \n",
    "        if np.mean(excludelast) == 0.5:\n",
    "            ctr += 1\n",
    "    \n",
    "    return ctr/N\n",
    "\n",
    "start_time = timeit.default_timer()\n",
    "X = np.arange(3,101,4)\n",
    "Y = list(map(tfChancesOfSwingVote, X))\n",
    "elapsed3 = timeit.default_timer() - start_time\n",
    "\n",
    "plt.plot(X,Y)\n",
    "plt.show()\n",
    "\n",
    "# Family of 3 kids\n",
    "print(\"Chances of swing vote in a family of 3 kids: \" + str(tfChancesOfSwingVote(3)))\n",
    "\n",
    "# Class of 31 kids\n",
    "print(\"Chances of swing vote in a classroom of 31 kids: \" + str(tfChancesOfSwingVote(31)))\n",
    "\n",
    "# A school of 301 kids\n",
    "print(\"Chances of swing vote in a school of 301 kids: \" + str(tfChancesOfSwingVote(301)))"
   ]
  }
 ],
 "metadata": {
  "kernelspec": {
   "display_name": "Python 3",
   "language": "python",
   "name": "python3"
  },
  "language_info": {
   "codemirror_mode": {
    "name": "ipython",
    "version": 3
   },
   "file_extension": ".py",
   "mimetype": "text/x-python",
   "name": "python",
   "nbconvert_exporter": "python",
   "pygments_lexer": "ipython3",
   "version": "3.5.2"
  }
 },
 "nbformat": 4,
 "nbformat_minor": 2
}
